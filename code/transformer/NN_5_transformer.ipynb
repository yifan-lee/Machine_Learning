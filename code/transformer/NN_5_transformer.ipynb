{
 "cells": [
  {
   "cell_type": "code",
   "execution_count": 1,
   "metadata": {},
   "outputs": [],
   "source": [
    "import torch\n",
    "import torch.nn as nn\n",
    "import torch.nn.functional as F\n",
    "\n",
    "from torch.optim import Adam # Faster than SGD\n",
    "from torch.utils.data import TensorDataset, DataLoader\n",
    "\n",
    "import lightning as L\n",
    "\n",
    "import pandas as pd\n",
    "import matplotlib.pyplot as plt\n",
    "import seaborn as sns"
   ]
  },
  {
   "cell_type": "code",
   "execution_count": 2,
   "metadata": {},
   "outputs": [],
   "source": [
    "### what is statquest: awesome\n",
    "### statquest is what: awesome\n",
    "\n",
    "token_to_id = {\n",
    "    'What': 0,\n",
    "    'is': 1,\n",
    "    'statquest': 2,\n",
    "    'awesome': 3,\n",
    "    '<EOS>': 4,\n",
    "}\n",
    "id_to_token = dict(map(reversed, token_to_id.items()))\n",
    "inputs = torch.tensor([[token_to_id['What'], \n",
    "                       token_to_id['is'], \n",
    "                       token_to_id['statquest'], \n",
    "                       token_to_id['<EOS>'], \n",
    "                       token_to_id['awesome']],\n",
    "                       [token_to_id['statquest'], \n",
    "                       token_to_id['is'], \n",
    "                       token_to_id['What'], \n",
    "                       token_to_id['<EOS>'], \n",
    "                       token_to_id['awesome']]])\n",
    "labels = torch.tensor([[token_to_id['is'], \n",
    "                       token_to_id['statquest'], \n",
    "                       token_to_id['<EOS>'], \n",
    "                       token_to_id['awesome'], \n",
    "                       token_to_id['<EOS>']],\n",
    "                       [token_to_id['is'], \n",
    "                       token_to_id['What'], \n",
    "                       token_to_id['<EOS>'], \n",
    "                       token_to_id['awesome'], \n",
    "                       token_to_id['<EOS>']]])\n",
    "\n",
    "\n",
    "dataset = TensorDataset(inputs, labels)\n",
    "dataloader = DataLoader(dataset)"
   ]
  },
  {
   "cell_type": "markdown",
   "metadata": {},
   "source": [
    "## Basic Transformer"
   ]
  },
  {
   "cell_type": "code",
   "execution_count": 3,
   "metadata": {},
   "outputs": [],
   "source": [
    "class PositionEncoding(nn.Module):\n",
    "    def __init__(self, d_model=2, max_len=6):\n",
    "        super().__init__()\n",
    "        \n",
    "        pe = torch.zeros(max_len, d_model)\n",
    "        \n",
    "        position = torch.arange(start=0, end=max_len, step=1).float().unsqueeze(1)\n",
    "        embedding_index = torch.arange(start=0, end=d_model, step=2).float()\n",
    "        \n",
    "        div_term = 1/torch.tensor(10000.0).pow(embedding_index / d_model)\n",
    "        pe[:, 0::2] = torch.sin(position * div_term)\n",
    "        pe[:, 1::2] = torch.cos(position * div_term)\n",
    "        self.register_buffer('pe',pe)\n",
    "\n",
    "    def forward(self, word_embeddings):\n",
    "        return word_embeddings + self.pe[:word_embeddings.size(0), :]"
   ]
  },
  {
   "cell_type": "code",
   "execution_count": 4,
   "metadata": {},
   "outputs": [],
   "source": [
    "class Attention(nn.Module):\n",
    "    def __init__(self, d_model=2):\n",
    "        super().__init__()\n",
    "        self.W_q = nn.Linear(in_features=d_model, out_features=d_model,bias=False)\n",
    "        self.W_k = nn.Linear(in_features=d_model, out_features=d_model,bias=False)\n",
    "        self.W_v = nn.Linear(in_features=d_model, out_features=d_model,bias=False)\n",
    "        \n",
    "        self.row_dim = 0 # 用来指示shape的第一个参数视作行，第二个视作列\n",
    "        self.col_dim = 1\n",
    "        \n",
    "\n",
    "    def forward(self, encodings_for_q, encodings_for_k, encodings_for_v, mask=None):\n",
    "        q = self.W_q(encodings_for_q)\n",
    "        k = self.W_k(encodings_for_k)\n",
    "        v = self.W_v(encodings_for_v)\n",
    "        \n",
    "        sims = torch.matmul(q, k.transpose(dim0=self.row_dim,dim1=self.col_dim)) \n",
    "        \n",
    "        scaled_sims = sims / torch.tensor(k.size(self.col_dim) ** 0.5)\n",
    "        \n",
    "        if mask is not None:\n",
    "            scaled_sims = scaled_sims.masked_fill(mask == 0, -1e9)\n",
    "        \n",
    "        attention_percents = F.softmax(scaled_sims, dim=self.col_dim)\n",
    "        \n",
    "        attention_scores = torch.matmul(attention_percents, v)\n",
    "        \n",
    "        return attention_scores"
   ]
  },
  {
   "cell_type": "code",
   "execution_count": 5,
   "metadata": {},
   "outputs": [],
   "source": [
    "class DecoderOnlyTransformer(L.LightningModule):\n",
    "    def __init__(self, num_tokens=4, d_model=2, max_len=6):\n",
    "        super().__init__()\n",
    "        \n",
    "        self.we = nn.Embedding(num_embeddings=num_tokens, embedding_dim=d_model)\n",
    "        self.pe = PositionEncoding(d_model=d_model, max_len=max_len)\n",
    "        self.self_attention = Attention(d_model=d_model)\n",
    "        self.fc_layer = nn.Linear(in_features=d_model, out_features=num_tokens)\n",
    "        self.loss = nn.CrossEntropyLoss()\n",
    "        \n",
    "        \n",
    "    def forward(self, token_ids):\n",
    "        word_embeddings = self.we(token_ids)\n",
    "        position_encoded = self.pe(word_embeddings)\n",
    "        \n",
    "        mask = torch.tril(\n",
    "            torch.ones(size=(token_ids.size(dim=0), token_ids.size(dim=0)), device=token_ids.device)\n",
    "        )\n",
    "        mask = mask == 0\n",
    "        \n",
    "        self_attention_values = self.self_attention(\n",
    "            encodings_for_q=position_encoded,\n",
    "            encodings_for_k=position_encoded,\n",
    "            encodings_for_v=position_encoded,\n",
    "            mask=mask\n",
    "        )\n",
    "        \n",
    "        residual_connestion = position_encoded + self_attention_values\n",
    "        \n",
    "        fc_layer_output = self.fc_layer(residual_connestion)\n",
    "        return fc_layer_output\n",
    "    \n",
    "    def configure_optimizers(self):\n",
    "        return(Adam(self.parameters(),lr=0.1))\n",
    "    \n",
    "    def training_step(self, batch, batch_idx):\n",
    "        input_tokens, labels = batch\n",
    "        output = self.forward(input_tokens[0])\n",
    "        loss = self.loss(output,labels[0])\n",
    "        return loss    "
   ]
  },
  {
   "cell_type": "code",
   "execution_count": 6,
   "metadata": {},
   "outputs": [],
   "source": [
    "model = DecoderOnlyTransformer(num_tokens=len(token_to_id), d_model=2, max_len=6)"
   ]
  },
  {
   "cell_type": "code",
   "execution_count": 7,
   "metadata": {},
   "outputs": [
    {
     "name": "stdout",
     "output_type": "stream",
     "text": [
      "Predicted Tokens:\n",
      "\n",
      "\t statquest\n",
      "\t is\n",
      "\t is\n"
     ]
    }
   ],
   "source": [
    "model_input = torch.tensor([token_to_id['What'], \n",
    "                       token_to_id['is'], \n",
    "                       token_to_id['statquest'], \n",
    "                       token_to_id['<EOS>']])\n",
    "input_length = model_input.size(dim=0)\n",
    "pridictions = model(model_input)\n",
    "predicted_id = torch.tensor([torch.argmax(pridictions[-1:])])\n",
    "predicted_ids = predicted_id\n",
    "\n",
    "max_length = 6\n",
    "for i in range(input_length, max_length):\n",
    "    if(predicted_id == token_to_id['<EOS>']):\n",
    "        break\n",
    "    model_input = torch.cat((model_input, predicted_id))\n",
    "    pridictions = model(model_input)\n",
    "    predicted_id = torch.tensor([torch.argmax(pridictions[-1:])])\n",
    "    predicted_ids = torch.cat((predicted_ids, predicted_id))\n",
    "\n",
    "print(\"Predicted Tokens:\\n\")\n",
    "for id in predicted_ids:\n",
    "    print(\"\\t\",id_to_token[id.item()])"
   ]
  },
  {
   "cell_type": "code",
   "execution_count": 8,
   "metadata": {},
   "outputs": [
    {
     "name": "stderr",
     "output_type": "stream",
     "text": [
      "GPU available: True (mps), used: True\n",
      "TPU available: False, using: 0 TPU cores\n",
      "HPU available: False, using: 0 HPUs\n"
     ]
    },
    {
     "name": "stderr",
     "output_type": "stream",
     "text": [
      "/opt/anaconda3/envs/machine_learning/lib/python3.13/site-packages/lightning/pytorch/trainer/connectors/logger_connector/logger_connector.py:76: Starting from v1.9.0, `tensorboardX` has been removed as a dependency of the `lightning.pytorch` package, due to potential conflicts with other packages in the ML ecosystem. For this reason, `logger=True` will use `CSVLogger` as the default logger, unless the `tensorboard` or `tensorboardX` packages are found. Please `pip install lightning[extra]` or one of them to enable TensorBoard support by default\n",
      "\n",
      "  | Name           | Type             | Params | Mode \n",
      "------------------------------------------------------------\n",
      "0 | we             | Embedding        | 10     | train\n",
      "1 | pe             | PositionEncoding | 0      | train\n",
      "2 | self_attention | Attention        | 12     | train\n",
      "3 | fc_layer       | Linear           | 15     | train\n",
      "4 | loss           | CrossEntropyLoss | 0      | train\n",
      "------------------------------------------------------------\n",
      "37        Trainable params\n",
      "0         Non-trainable params\n",
      "37        Total params\n",
      "0.000     Total estimated model params size (MB)\n",
      "8         Modules in train mode\n",
      "0         Modules in eval mode\n",
      "/opt/anaconda3/envs/machine_learning/lib/python3.13/site-packages/lightning/pytorch/trainer/connectors/data_connector.py:425: The 'train_dataloader' does not have many workers which may be a bottleneck. Consider increasing the value of the `num_workers` argument` to `num_workers=15` in the `DataLoader` to improve performance.\n",
      "/opt/anaconda3/envs/machine_learning/lib/python3.13/site-packages/lightning/pytorch/loops/fit_loop.py:310: The number of training batches (2) is smaller than the logging interval Trainer(log_every_n_steps=50). Set a lower value for log_every_n_steps if you want to see logs for the training epoch.\n"
     ]
    },
    {
     "name": "stdout",
     "output_type": "stream",
     "text": [
      "Epoch 99: 100%|██████████| 2/2 [00:00<00:00, 306.66it/s, v_num=18]"
     ]
    },
    {
     "name": "stderr",
     "output_type": "stream",
     "text": [
      "`Trainer.fit` stopped: `max_epochs=100` reached.\n"
     ]
    },
    {
     "name": "stdout",
     "output_type": "stream",
     "text": [
      "Epoch 99: 100%|██████████| 2/2 [00:00<00:00, 185.81it/s, v_num=18]\n"
     ]
    }
   ],
   "source": [
    "trainer = L.Trainer(max_epochs=100)\n",
    "trainer.fit(model, train_dataloaders = dataloader)"
   ]
  },
  {
   "cell_type": "code",
   "execution_count": 9,
   "metadata": {},
   "outputs": [
    {
     "name": "stdout",
     "output_type": "stream",
     "text": [
      "Predicted Tokens:\n",
      "\n",
      "\t awesome\n",
      "\t <EOS>\n"
     ]
    }
   ],
   "source": [
    "model_input = torch.tensor([token_to_id['What'], \n",
    "                       token_to_id['is'], \n",
    "                       token_to_id['statquest'], \n",
    "                       token_to_id['<EOS>']])\n",
    "input_length = model_input.size(dim=0)\n",
    "pridictions = model(model_input)\n",
    "predicted_id = torch.tensor([torch.argmax(pridictions[-1:])])\n",
    "predicted_ids = predicted_id\n",
    "\n",
    "max_length = 6\n",
    "for i in range(input_length, max_length):\n",
    "    if(predicted_id == token_to_id['<EOS>']):\n",
    "        break\n",
    "    model_input = torch.cat((model_input, predicted_id))\n",
    "    pridictions = model(model_input)\n",
    "    predicted_id = torch.tensor([torch.argmax(pridictions[-1:])])\n",
    "    predicted_ids = torch.cat((predicted_ids, predicted_id))\n",
    "\n",
    "print(\"Predicted Tokens:\\n\")\n",
    "for id in predicted_ids:\n",
    "    print(\"\\t\",id_to_token[id.item()])"
   ]
  },
  {
   "cell_type": "code",
   "execution_count": 10,
   "metadata": {},
   "outputs": [
    {
     "name": "stdout",
     "output_type": "stream",
     "text": [
      "Predicted Tokens:\n",
      "\n",
      "\t awesome\n",
      "\t <EOS>\n"
     ]
    }
   ],
   "source": [
    "model_input = torch.tensor([token_to_id['statquest'], \n",
    "                       token_to_id['is'], \n",
    "                       token_to_id['What'], \n",
    "                       token_to_id['<EOS>']])\n",
    "input_length = model_input.size(dim=0)\n",
    "pridictions = model(model_input)\n",
    "predicted_id = torch.tensor([torch.argmax(pridictions[-1:])])\n",
    "predicted_ids = predicted_id\n",
    "\n",
    "max_length = 6\n",
    "for i in range(input_length, max_length):\n",
    "    if(predicted_id == token_to_id['<EOS>']):\n",
    "        break\n",
    "    model_input = torch.cat((model_input, predicted_id))\n",
    "    pridictions = model(model_input)\n",
    "    predicted_id = torch.tensor([torch.argmax(pridictions[-1:])])\n",
    "    predicted_ids = torch.cat((predicted_ids, predicted_id))\n",
    "\n",
    "print(\"Predicted Tokens:\\n\")\n",
    "for id in predicted_ids:\n",
    "    print(\"\\t\",id_to_token[id.item()])"
   ]
  },
  {
   "cell_type": "code",
   "execution_count": null,
   "metadata": {},
   "outputs": [],
   "source": []
  }
 ],
 "metadata": {
  "kernelspec": {
   "display_name": "machine_learning",
   "language": "python",
   "name": "python3"
  },
  "language_info": {
   "codemirror_mode": {
    "name": "ipython",
    "version": 3
   },
   "file_extension": ".py",
   "mimetype": "text/x-python",
   "name": "python",
   "nbconvert_exporter": "python",
   "pygments_lexer": "ipython3",
   "version": "3.13.2"
  }
 },
 "nbformat": 4,
 "nbformat_minor": 2
}
