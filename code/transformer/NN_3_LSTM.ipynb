{
 "cells": [
  {
   "cell_type": "code",
   "execution_count": 1,
   "metadata": {},
   "outputs": [],
   "source": [
    "import torch\n",
    "import torch.nn as nn\n",
    "import torch.nn.functional as F # activation function ReLU\n",
    "from torch.optim import Adam # Faster than SGD\n",
    "\n",
    "import lightning as L\n",
    "from torch.utils.data import TensorDataset, DataLoader\n",
    "\n",
    "# import matplotlib.pyplot as plt\n",
    "# import seaborn as sns"
   ]
  },
  {
   "cell_type": "markdown",
   "metadata": {},
   "source": [
    "# Parameters"
   ]
  },
  {
   "cell_type": "code",
   "execution_count": 9,
   "metadata": {},
   "outputs": [],
   "source": [
    "inputs = torch.tensor([[0.,0.5,0.25,1.],[1.,0.5,0.25,1.]])\n",
    "labels = torch.tensor([0.,1.])\n",
    "dataset = TensorDataset(inputs, labels)\n",
    "dataloader = DataLoader(dataset)"
   ]
  },
  {
   "cell_type": "markdown",
   "metadata": {},
   "source": [
    "# Basic LSTM"
   ]
  },
  {
   "cell_type": "code",
   "execution_count": 12,
   "metadata": {},
   "outputs": [],
   "source": [
    "class LSTMbyHand(L.LightningModule):\n",
    "    def __init__(self):\n",
    "        super().__init__()\n",
    "        mean = torch.tensor(0.)\n",
    "        std = torch.tensor(1.)\n",
    "        \n",
    "        self.wlr1 = nn.Parameter(torch.normal(mean=mean, std=std),requires_grad=True)\n",
    "        self.wlr2 = nn.Parameter(torch.normal(mean=mean, std=std),requires_grad=True)\n",
    "        self.blr1 = nn.Parameter(torch.tensor(0.,),requires_grad=True)\n",
    "        \n",
    "        self.wpr1 = nn.Parameter(torch.normal(mean=mean, std=std),requires_grad=True)\n",
    "        self.wpr2 = nn.Parameter(torch.normal(mean=mean, std=std),requires_grad=True)\n",
    "        self.bpr1 = nn.Parameter(torch.tensor(0.,),requires_grad=True)\n",
    "        \n",
    "        self.wp1 = nn.Parameter(torch.normal(mean=mean, std=std),requires_grad=True)\n",
    "        self.wp2 = nn.Parameter(torch.normal(mean=mean, std=std),requires_grad=True)\n",
    "        self.bp1 = nn.Parameter(torch.tensor(0.,),requires_grad=True)\n",
    "        \n",
    "        self.wo1 = nn.Parameter(torch.normal(mean=mean, std=std),requires_grad=True)\n",
    "        self.wo2 = nn.Parameter(torch.normal(mean=mean, std=std),requires_grad=True)\n",
    "        self.bo1 = nn.Parameter(torch.tensor(0.,),requires_grad=True)\n",
    "        \n",
    "\n",
    "    def lstm_unit(self, input_value, long_memory,short_memory):\n",
    "        long_remember_percent = torch.sigmoid((short_memory*self.wlr1) + \n",
    "                                              (input_value*self.wlr2) + \n",
    "                                              self.blr1)\n",
    "        petential_remember_percent = torch.sigmoid((short_memory*self.wpr1) + \n",
    "                                              (input_value*self.wpr2) + \n",
    "                                              self.bpr1)\n",
    "        \n",
    "        petential_memory = torch.tanh((short_memory*self.wp1) + \n",
    "                                              (input_value*self.wp2) + \n",
    "                                              self.bp1)\n",
    "        \n",
    "        updated_long_memory = ((long_memory*long_remember_percent) + \n",
    "                               (petential_memory*petential_remember_percent))\n",
    "        \n",
    "        output_percent = torch.sigmoid((short_memory*self.wo1) + \n",
    "                                              (input_value*self.wo2) + \n",
    "                                              self.bo1)\n",
    "        \n",
    "        updated_short_memory = torch.tanh(updated_long_memory)*output_percent\n",
    "        \n",
    "        return([updated_long_memory, updated_short_memory])\n",
    "\n",
    "    def forward(self, input):\n",
    "        long_memory =0\n",
    "        short_memory =0\n",
    "        day1 = input[0]\n",
    "        day2 = input[1]\n",
    "        day3 = input[2]\n",
    "        day4 = input[3]\n",
    "        \n",
    "        long_memory, short_memory = self.lstm_unit(day1, long_memory, short_memory)\n",
    "        long_memory, short_memory = self.lstm_unit(day2, long_memory, short_memory)\n",
    "        long_memory, short_memory = self.lstm_unit(day3, long_memory, short_memory)\n",
    "        long_memory, short_memory = self.lstm_unit(day4, long_memory, short_memory)\n",
    "        output = short_memory\n",
    "        return output\n",
    "    \n",
    "    def configure_optimizers(self):\n",
    "        return(Adam(self.parameters()))\n",
    "    \n",
    "    def training_step(self, batch, batch_idx):\n",
    "        input_i, label_i = batch\n",
    "        output_i = self.forward(input_i[0])\n",
    "        loss = (output_i-label_i)**2\n",
    "        self.log('train_loss', loss)\n",
    "        \n",
    "        if(label_i == 0):\n",
    "            self.log('out_0', output_i)\n",
    "        else:\n",
    "            self.log('out_1', output_i)\n",
    "        return loss    "
   ]
  },
  {
   "cell_type": "code",
   "execution_count": 13,
   "metadata": {},
   "outputs": [
    {
     "name": "stdout",
     "output_type": "stream",
     "text": [
      "\n",
      "Now let's compare the observed and predicted values...\n",
      "Company A: Observed: 0, Predicted: -0.44012928009033203\n",
      "Company B: Observed: 0, Predicted: -0.6451089382171631\n"
     ]
    }
   ],
   "source": [
    "model = LSTMbyHand()\n",
    "print(f\"\\nNow let's compare the observed and predicted values...\")\n",
    "print(f\"Company A: Observed: 0, Predicted: {model(torch.tensor([0.,0.5,0.25,1.])).detach()}\")\n",
    "print(f\"Company B: Observed: 0, Predicted: {model(torch.tensor([1.,0.5,0.25,1.])).detach()}\")"
   ]
  },
  {
   "cell_type": "code",
   "execution_count": 14,
   "metadata": {},
   "outputs": [
    {
     "name": "stderr",
     "output_type": "stream",
     "text": [
      "GPU available: True (mps), used: True\n",
      "TPU available: False, using: 0 TPU cores\n",
      "HPU available: False, using: 0 HPUs\n",
      "\n",
      "  | Name         | Type | Params | Mode\n",
      "---------------------------------------------\n",
      "  | other params | n/a  | 12     | n/a \n",
      "---------------------------------------------\n",
      "12        Trainable params\n",
      "0         Non-trainable params\n",
      "12        Total params\n",
      "0.000     Total estimated model params size (MB)\n",
      "0         Modules in train mode\n",
      "0         Modules in eval mode\n"
     ]
    },
    {
     "name": "stdout",
     "output_type": "stream",
     "text": [
      "Epoch 1999: 100%|██████████| 2/2 [00:00<00:00, 147.34it/s, v_num=7]"
     ]
    },
    {
     "name": "stderr",
     "output_type": "stream",
     "text": [
      "`Trainer.fit` stopped: `max_epochs=2000` reached.\n"
     ]
    },
    {
     "name": "stdout",
     "output_type": "stream",
     "text": [
      "Epoch 1999: 100%|██████████| 2/2 [00:00<00:00, 102.17it/s, v_num=7]\n",
      "\n",
      "Now let's compare the observed and predicted values...\n",
      "Company A: Observed: 0, Predicted: 0.5057027339935303\n",
      "Company B: Observed: 0, Predicted: 0.5075316429138184\n"
     ]
    }
   ],
   "source": [
    "trainer = L.Trainer(max_epochs=2000)\n",
    "trainer.fit(model, train_dataloaders = dataloader)\n",
    "print(f\"\\nNow let's compare the observed and predicted values...\")\n",
    "print(f\"Company A: Observed: 0, Predicted: {model(torch.tensor([0.,0.5,0.25,1.])).detach()}\")\n",
    "print(f\"Company B: Observed: 0, Predicted: {model(torch.tensor([1.,0.5,0.25,1.])).detach()}\")"
   ]
  },
  {
   "cell_type": "code",
   "execution_count": 16,
   "metadata": {},
   "outputs": [
    {
     "name": "stderr",
     "output_type": "stream",
     "text": [
      "GPU available: True (mps), used: True\n",
      "TPU available: False, using: 0 TPU cores\n",
      "HPU available: False, using: 0 HPUs\n",
      "Restoring states from the checkpoint path at /Users/yifanli/Github/Machine_Learning/code/transformer/lightning_logs/version_7/checkpoints/epoch=1999-step=4000.ckpt\n",
      "/opt/anaconda3/envs/machine_learning/lib/python3.13/site-packages/lightning/pytorch/callbacks/model_checkpoint.py:362: The dirpath has changed from '/Users/yifanli/Github/Machine_Learning/code/transformer/lightning_logs/version_7/checkpoints' to '/Users/yifanli/Github/Machine_Learning/code/transformer/lightning_logs/version_8/checkpoints', therefore `best_model_score`, `kth_best_model_path`, `kth_value`, `last_model_path` and `best_k_models` won't be reloaded. Only `best_model_path` will be reloaded.\n",
      "\n",
      "  | Name         | Type | Params | Mode\n",
      "---------------------------------------------\n",
      "  | other params | n/a  | 12     | n/a \n",
      "---------------------------------------------\n",
      "12        Trainable params\n",
      "0         Non-trainable params\n",
      "12        Total params\n",
      "0.000     Total estimated model params size (MB)\n",
      "0         Modules in train mode\n",
      "0         Modules in eval mode\n",
      "Restored all states from the checkpoint at /Users/yifanli/Github/Machine_Learning/code/transformer/lightning_logs/version_7/checkpoints/epoch=1999-step=4000.ckpt\n",
      "/opt/anaconda3/envs/machine_learning/lib/python3.13/site-packages/lightning/pytorch/trainer/connectors/data_connector.py:425: The 'train_dataloader' does not have many workers which may be a bottleneck. Consider increasing the value of the `num_workers` argument` to `num_workers=15` in the `DataLoader` to improve performance.\n",
      "/opt/anaconda3/envs/machine_learning/lib/python3.13/site-packages/lightning/pytorch/loops/fit_loop.py:310: The number of training batches (2) is smaller than the logging interval Trainer(log_every_n_steps=50). Set a lower value for log_every_n_steps if you want to see logs for the training epoch.\n"
     ]
    },
    {
     "name": "stdout",
     "output_type": "stream",
     "text": [
      "Epoch 4999: 100%|██████████| 2/2 [00:00<00:00, 133.10it/s, v_num=8]"
     ]
    },
    {
     "name": "stderr",
     "output_type": "stream",
     "text": [
      "`Trainer.fit` stopped: `max_epochs=5000` reached.\n"
     ]
    },
    {
     "name": "stdout",
     "output_type": "stream",
     "text": [
      "Epoch 4999: 100%|██████████| 2/2 [00:00<00:00, 91.64it/s, v_num=8] \n",
      "\n",
      "Now let's compare the observed and predicted values...\n",
      "Company A: Observed: 0, Predicted: 0.42677316069602966\n",
      "Company B: Observed: 0, Predicted: 0.5205246210098267\n"
     ]
    }
   ],
   "source": [
    "path_to_best_checkpoint = trainer.checkpoint_callback.best_model_path\n",
    "trainer = L.Trainer(max_epochs=5000)\n",
    "trainer.fit(model, train_dataloaders = dataloader, ckpt_path=path_to_best_checkpoint)\n",
    "print(f\"\\nNow let's compare the observed and predicted values...\")\n",
    "print(f\"Company A: Observed: 0, Predicted: {model(torch.tensor([0.,0.5,0.25,1.])).detach()}\")\n",
    "print(f\"Company B: Observed: 0, Predicted: {model(torch.tensor([1.,0.5,0.25,1.])).detach()}\")"
   ]
  },
  {
   "cell_type": "code",
   "execution_count": 17,
   "metadata": {},
   "outputs": [
    {
     "name": "stderr",
     "output_type": "stream",
     "text": [
      "GPU available: True (mps), used: True\n",
      "TPU available: False, using: 0 TPU cores\n",
      "HPU available: False, using: 0 HPUs\n",
      "Restoring states from the checkpoint path at /Users/yifanli/Github/Machine_Learning/code/transformer/lightning_logs/version_8/checkpoints/epoch=4999-step=10000.ckpt\n",
      "/opt/anaconda3/envs/machine_learning/lib/python3.13/site-packages/lightning/pytorch/callbacks/model_checkpoint.py:362: The dirpath has changed from '/Users/yifanli/Github/Machine_Learning/code/transformer/lightning_logs/version_8/checkpoints' to '/Users/yifanli/Github/Machine_Learning/code/transformer/lightning_logs/version_9/checkpoints', therefore `best_model_score`, `kth_best_model_path`, `kth_value`, `last_model_path` and `best_k_models` won't be reloaded. Only `best_model_path` will be reloaded.\n",
      "\n",
      "  | Name         | Type | Params | Mode\n",
      "---------------------------------------------\n",
      "  | other params | n/a  | 12     | n/a \n",
      "---------------------------------------------\n",
      "12        Trainable params\n",
      "0         Non-trainable params\n",
      "12        Total params\n",
      "0.000     Total estimated model params size (MB)\n",
      "0         Modules in train mode\n",
      "0         Modules in eval mode\n",
      "Restored all states from the checkpoint at /Users/yifanli/Github/Machine_Learning/code/transformer/lightning_logs/version_8/checkpoints/epoch=4999-step=10000.ckpt\n"
     ]
    },
    {
     "name": "stdout",
     "output_type": "stream",
     "text": [
      "Epoch 9999: 100%|██████████| 2/2 [00:00<00:00, 149.20it/s, v_num=9]"
     ]
    },
    {
     "name": "stderr",
     "output_type": "stream",
     "text": [
      "`Trainer.fit` stopped: `max_epochs=10000` reached.\n"
     ]
    },
    {
     "name": "stdout",
     "output_type": "stream",
     "text": [
      "Epoch 9999: 100%|██████████| 2/2 [00:00<00:00, 101.78it/s, v_num=9]\n",
      "\n",
      "Now let's compare the observed and predicted values...\n",
      "Company A: Observed: 0, Predicted: 0.00012457992124836892\n",
      "Company B: Observed: 0, Predicted: 0.9881858825683594\n"
     ]
    }
   ],
   "source": [
    "path_to_best_checkpoint = trainer.checkpoint_callback.best_model_path\n",
    "trainer = L.Trainer(max_epochs=10000)\n",
    "trainer.fit(model, train_dataloaders = dataloader, ckpt_path=path_to_best_checkpoint)\n",
    "print(f\"\\nNow let's compare the observed and predicted values...\")\n",
    "print(f\"Company A: Observed: 0, Predicted: {model(torch.tensor([0.,0.5,0.25,1.])).detach()}\")\n",
    "print(f\"Company B: Observed: 0, Predicted: {model(torch.tensor([1.,0.5,0.25,1.])).detach()}\")"
   ]
  },
  {
   "cell_type": "markdown",
   "metadata": {},
   "source": [
    "# Lightning LSTM"
   ]
  },
  {
   "cell_type": "code",
   "execution_count": 21,
   "metadata": {},
   "outputs": [],
   "source": [
    "class LightningLSTM(L.LightningModule):\n",
    "    def __init__(self):\n",
    "        super().__init__()\n",
    "        \n",
    "        self.lstm = nn.LSTM(input_size=1, hidden_size=1)\n",
    "        \n",
    "    def forward(self, input):\n",
    "        input_trans = input.view(len(input), 1)\n",
    "        lstm_out, temp = self.lstm(input_trans)\n",
    "        prediction = lstm_out[-1]\n",
    "        return prediction\n",
    "    \n",
    "    def configure_optimizers(self):\n",
    "        return(Adam(self.parameters(),lr=0.01))\n",
    "    \n",
    "    def training_step(self, batch, batch_idx):\n",
    "        input_i, label_i = batch\n",
    "        output_i = self.forward(input_i[0])\n",
    "        loss = (output_i-label_i)**2\n",
    "        self.log('train_loss', loss)\n",
    "        \n",
    "        if(label_i == 0):\n",
    "            self.log('out_0', output_i)\n",
    "        else:\n",
    "            self.log('out_1', output_i)\n",
    "        return loss    "
   ]
  },
  {
   "cell_type": "code",
   "execution_count": 22,
   "metadata": {},
   "outputs": [
    {
     "name": "stdout",
     "output_type": "stream",
     "text": [
      "\n",
      "Now let's compare the observed and predicted values...\n",
      "Company A: Observed: 0, Predicted: tensor([0.2412])\n",
      "Company B: Observed: 0, Predicted: tensor([0.2079])\n"
     ]
    }
   ],
   "source": [
    "model = LightningLSTM()\n",
    "print(f\"\\nNow let's compare the observed and predicted values...\")\n",
    "print(f\"Company A: Observed: 0, Predicted: {model(torch.tensor([0.,0.5,0.25,1.])).detach()}\")\n",
    "print(f\"Company B: Observed: 0, Predicted: {model(torch.tensor([1.,0.5,0.25,1.])).detach()}\")"
   ]
  },
  {
   "cell_type": "code",
   "execution_count": 24,
   "metadata": {},
   "outputs": [
    {
     "name": "stderr",
     "output_type": "stream",
     "text": [
      "GPU available: True (mps), used: True\n",
      "TPU available: False, using: 0 TPU cores\n",
      "HPU available: False, using: 0 HPUs\n",
      "\n",
      "  | Name | Type | Params | Mode \n",
      "--------------------------------------\n",
      "0 | lstm | LSTM | 16     | train\n",
      "--------------------------------------\n",
      "16        Trainable params\n",
      "0         Non-trainable params\n",
      "16        Total params\n",
      "0.000     Total estimated model params size (MB)\n",
      "1         Modules in train mode\n",
      "0         Modules in eval mode\n"
     ]
    },
    {
     "name": "stdout",
     "output_type": "stream",
     "text": [
      "Epoch 999: 100%|██████████| 2/2 [00:00<00:00, 279.60it/s, v_num=11]"
     ]
    },
    {
     "name": "stderr",
     "output_type": "stream",
     "text": [
      "`Trainer.fit` stopped: `max_epochs=1000` reached.\n"
     ]
    },
    {
     "name": "stdout",
     "output_type": "stream",
     "text": [
      "Epoch 999: 100%|██████████| 2/2 [00:00<00:00, 192.53it/s, v_num=11]\n",
      "\n",
      "Now let's compare the observed and predicted values...\n",
      "Company A: Observed: 0, Predicted: tensor([0.0174])\n",
      "Company B: Observed: 0, Predicted: tensor([0.9565])\n"
     ]
    }
   ],
   "source": [
    "trainer = L.Trainer(max_epochs=1000,log_every_n_steps=2)\n",
    "trainer.fit(model, train_dataloaders = dataloader)\n",
    "print(f\"\\nNow let's compare the observed and predicted values...\")\n",
    "print(f\"Company A: Observed: 0, Predicted: {model(torch.tensor([0.,0.5,0.25,1.])).detach()}\")\n",
    "print(f\"Company B: Observed: 0, Predicted: {model(torch.tensor([1.,0.5,0.25,1.])).detach()}\")"
   ]
  },
  {
   "cell_type": "code",
   "execution_count": null,
   "metadata": {},
   "outputs": [],
   "source": []
  },
  {
   "cell_type": "code",
   "execution_count": null,
   "metadata": {},
   "outputs": [],
   "source": []
  },
  {
   "cell_type": "code",
   "execution_count": null,
   "metadata": {},
   "outputs": [],
   "source": []
  },
  {
   "cell_type": "code",
   "execution_count": null,
   "metadata": {},
   "outputs": [],
   "source": []
  }
 ],
 "metadata": {
  "kernelspec": {
   "display_name": "machine_learning",
   "language": "python",
   "name": "python3"
  },
  "language_info": {
   "codemirror_mode": {
    "name": "ipython",
    "version": 3
   },
   "file_extension": ".py",
   "mimetype": "text/x-python",
   "name": "python",
   "nbconvert_exporter": "python",
   "pygments_lexer": "ipython3",
   "version": "3.13.2"
  }
 },
 "nbformat": 4,
 "nbformat_minor": 2
}
