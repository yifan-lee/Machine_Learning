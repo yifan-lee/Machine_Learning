{
 "cells": [
  {
   "cell_type": "code",
   "execution_count": 1,
   "metadata": {},
   "outputs": [],
   "source": [
    "import numpy as np"
   ]
  },
  {
   "cell_type": "code",
   "execution_count": 2,
   "metadata": {},
   "outputs": [],
   "source": [
    "word_SOS = [1,0,0,0]\n",
    "word_Let = [0,1,0,0]\n",
    "word_to = [0,0,1,0]\n",
    "word_go = [0,0,0,1]"
   ]
  },
  {
   "cell_type": "code",
   "execution_count": 3,
   "metadata": {},
   "outputs": [],
   "source": [
    "word2vec = np.array(\n",
    "    [[1.16, -0.77], \n",
    "     [-0.27,0.82],\n",
    "     [-2.19, 0.89],\n",
    "     [3.5, -1.74]]\n",
    ")\n",
    "word2vecT = np.transpose(word2vec)"
   ]
  },
  {
   "cell_type": "code",
   "execution_count": 4,
   "metadata": {},
   "outputs": [],
   "source": [
    "sentence_matrix = np.array(\n",
    "    [word_SOS,\n",
    "     word_Let,\n",
    "     word_go]\n",
    ")"
   ]
  },
  {
   "cell_type": "markdown",
   "metadata": {},
   "source": [
    "# Encoder"
   ]
  },
  {
   "cell_type": "markdown",
   "metadata": {},
   "source": [
    "### Step 1: Word embedding"
   ]
  },
  {
   "cell_type": "code",
   "execution_count": 5,
   "metadata": {},
   "outputs": [
    {
     "data": {
      "text/plain": [
       "array([[ 1.16, -0.77],\n",
       "       [-0.27,  0.82],\n",
       "       [ 3.5 , -1.74]])"
      ]
     },
     "execution_count": 5,
     "metadata": {},
     "output_type": "execute_result"
    }
   ],
   "source": [
    "result1_1 = np.dot(sentence_matrix, word2vec)\n",
    "np.around(result1_1, decimals=2)"
   ]
  },
  {
   "cell_type": "markdown",
   "metadata": {},
   "source": [
    "### Step 2: Add position"
   ]
  },
  {
   "cell_type": "code",
   "execution_count": 6,
   "metadata": {},
   "outputs": [
    {
     "data": {
      "text/plain": [
       "array([[ 1.16,  0.23],\n",
       "       [ 0.57,  1.36],\n",
       "       [ 4.41, -2.16]])"
      ]
     },
     "execution_count": 6,
     "metadata": {},
     "output_type": "execute_result"
    }
   ],
   "source": [
    "position_matrix = np.array(\n",
    "    [[0, 1],\n",
    "     [0.84, 0.54],\n",
    "     [0.91, -0.42]]\n",
    ")\n",
    "result1_2 = result1_1+position_matrix\n",
    "np.around(result1_2, decimals=2)"
   ]
  },
  {
   "cell_type": "markdown",
   "metadata": {},
   "source": [
    "### Step 3: Transformer"
   ]
  },
  {
   "cell_type": "code",
   "execution_count": 7,
   "metadata": {},
   "outputs": [],
   "source": [
    "W_Q = np.array(\n",
    "    [[2.22, 0.41],\n",
    "     [0.17, -0.51]]\n",
    ")\n",
    "W_K = np.array(\n",
    "    [[-1.82, 0.57],\n",
    "     [1.36, -0.38]]\n",
    ")\n",
    "W_V = np.array(\n",
    "    [[-0.43, -0.59],\n",
    "     [1.33, -2.15]]\n",
    ")"
   ]
  },
  {
   "cell_type": "code",
   "execution_count": 8,
   "metadata": {},
   "outputs": [],
   "source": [
    "result1_3_Q = np.dot(result1_2, W_Q)\n",
    "result1_3_K = np.dot(result1_2, W_K)\n",
    "result1_3_V = np.dot(result1_2, W_V)"
   ]
  },
  {
   "cell_type": "code",
   "execution_count": 9,
   "metadata": {},
   "outputs": [],
   "source": [
    "result1_3_QK = np.dot(result1_3_Q, np.transpose(result1_3_K))/np.sqrt(2)"
   ]
  },
  {
   "cell_type": "code",
   "execution_count": 10,
   "metadata": {},
   "outputs": [
    {
     "data": {
      "text/plain": [
       "array([[0.01, 0.99, 0.  ],\n",
       "       [0.05, 0.95, 0.  ],\n",
       "       [0.  , 1.  , 0.  ]])"
      ]
     },
     "execution_count": 10,
     "metadata": {},
     "output_type": "execute_result"
    }
   ],
   "source": [
    "def softmax(row):\n",
    "    exp_row = np.exp(row)\n",
    "    sum_exp = np.sum(exp_row)\n",
    "    return exp_row / sum_exp\n",
    "result1_3_QK_softmax = np.apply_along_axis(softmax, 1, result1_3_QK)\n",
    "np.around(result1_3_QK_softmax, decimals=2)"
   ]
  },
  {
   "cell_type": "code",
   "execution_count": 11,
   "metadata": {},
   "outputs": [
    {
     "data": {
      "text/plain": [
       "array([[ 1.55, -3.24],\n",
       "       [ 1.48, -3.16],\n",
       "       [ 1.56, -3.26]])"
      ]
     },
     "execution_count": 11,
     "metadata": {},
     "output_type": "execute_result"
    }
   ],
   "source": [
    "result1_3 = np.dot(result1_3_QK_softmax, result1_3_V)\n",
    "np.around(result1_3, decimals=2)"
   ]
  },
  {
   "cell_type": "markdown",
   "metadata": {},
   "source": [
    "### Step 4: Add resuidual connection"
   ]
  },
  {
   "cell_type": "code",
   "execution_count": 12,
   "metadata": {},
   "outputs": [
    {
     "data": {
      "text/plain": [
       "array([[ 2.71, -3.01],\n",
       "       [ 2.05, -1.8 ],\n",
       "       [ 5.97, -5.42]])"
      ]
     },
     "execution_count": 12,
     "metadata": {},
     "output_type": "execute_result"
    }
   ],
   "source": [
    "result1_4 = result1_3 + result1_2\n",
    "np.around(result1_4, decimals=2)"
   ]
  },
  {
   "cell_type": "markdown",
   "metadata": {},
   "source": [
    "# Decoder"
   ]
  },
  {
   "cell_type": "code",
   "execution_count": null,
   "metadata": {},
   "outputs": [],
   "source": [
    "word_SOS2 = [1,0,0,0,0]\n",
    "word_ir = [0,1,0,0,0]\n",
    "word_vamos = [0,0,1,0,0]\n",
    "word_y = [0,0,0,1,0]\n",
    "word_EOS2 = [0,0,0,0,1]\n",
    "\n",
    "word2vec_spanish = np.array(\n",
    "    [[-2.53, -0.97], \n",
    "     [1.27,2.17],\n",
    "     [0.71, 0.73],\n",
    "     [0.58, 0.69],\n",
    "     [-1.39, 0.76]]\n",
    ")\n",
    "word2vec_spanishT = np.transpose(word2vec)"
   ]
  },
  {
   "cell_type": "code",
   "execution_count": 15,
   "metadata": {},
   "outputs": [],
   "source": [
    "sentence_matrix_spanish = np.array(\n",
    "    [word_SOS2,\n",
    "     word_vamos]\n",
    ")"
   ]
  },
  {
   "cell_type": "markdown",
   "metadata": {},
   "source": [
    "### Step 1: Word embedding"
   ]
  },
  {
   "cell_type": "code",
   "execution_count": 16,
   "metadata": {},
   "outputs": [
    {
     "data": {
      "text/plain": [
       "array([[-2.53, -0.97],\n",
       "       [ 0.71,  0.73]])"
      ]
     },
     "execution_count": 16,
     "metadata": {},
     "output_type": "execute_result"
    }
   ],
   "source": [
    "result2_1 = np.dot(sentence_matrix_spanish, word2vec_spanish)\n",
    "np.around(result2_1, decimals=2)"
   ]
  },
  {
   "cell_type": "markdown",
   "metadata": {},
   "source": [
    "### Step 2: Add position"
   ]
  },
  {
   "cell_type": "code",
   "execution_count": 17,
   "metadata": {},
   "outputs": [
    {
     "data": {
      "text/plain": [
       "array([[-2.53,  0.03],\n",
       "       [ 1.55,  1.27]])"
      ]
     },
     "execution_count": 17,
     "metadata": {},
     "output_type": "execute_result"
    }
   ],
   "source": [
    "position_matrix2 = np.array(\n",
    "    [[0, 1],\n",
    "     [0.84, 0.54]]\n",
    ")\n",
    "result2_2 = result2_1+position_matrix2\n",
    "np.around(result2_2, decimals=2)"
   ]
  },
  {
   "cell_type": "markdown",
   "metadata": {},
   "source": [
    "### Step 3: Transformer"
   ]
  },
  {
   "cell_type": "code",
   "execution_count": 30,
   "metadata": {},
   "outputs": [],
   "source": [
    "W_Q2 = np.array(\n",
    "    [[-0.19, 0.24],\n",
    "     [0.64, 1.47]]\n",
    ")\n",
    "W_K2 = np.array(\n",
    "    [[-0.08, 0.38],\n",
    "     [1.18, 0.67]]\n",
    ")\n",
    "W_V2 = np.array(\n",
    "    [[1.26, 1.10],\n",
    "     [-0.71, 0.05]]\n",
    ")"
   ]
  },
  {
   "cell_type": "code",
   "execution_count": 42,
   "metadata": {},
   "outputs": [
    {
     "data": {
      "text/plain": [
       "array([[ 0.46, -0.09],\n",
       "       [-1.4 ,  2.78]])"
      ]
     },
     "execution_count": 42,
     "metadata": {},
     "output_type": "execute_result"
    }
   ],
   "source": [
    "result2_3_Q = np.dot(result2_2, W_Q2)\n",
    "result2_3_K = np.dot(result2_2, W_K2)\n",
    "result2_3_V = np.dot(result2_2, W_V2)\n",
    "\n",
    "result2_3_QK = np.dot(result2_3_Q, np.transpose(result2_3_K))/np.sqrt(2)\n",
    "np.around(result2_3_QK, decimals=2)"
   ]
  },
  {
   "cell_type": "code",
   "execution_count": 43,
   "metadata": {},
   "outputs": [
    {
     "data": {
      "text/plain": [
       "array([[ 0.46,  -inf],\n",
       "       [-1.4 ,  2.78]])"
      ]
     },
     "execution_count": 43,
     "metadata": {},
     "output_type": "execute_result"
    }
   ],
   "source": [
    "## set -0.09 as 0 to avoid checting\n",
    "result2_mask = np.array(\n",
    "    [[0, -np.inf],\n",
    "     [0, 0]]\n",
    ")\n",
    "result2_3_QK_masked = result2_3_QK + result2_mask\n",
    "np.around(result2_3_QK_masked, decimals=2)"
   ]
  },
  {
   "cell_type": "code",
   "execution_count": 44,
   "metadata": {},
   "outputs": [
    {
     "data": {
      "text/plain": [
       "array([[1.  , 0.  ],\n",
       "       [0.01, 0.99]])"
      ]
     },
     "execution_count": 44,
     "metadata": {},
     "output_type": "execute_result"
    }
   ],
   "source": [
    "result2_3_QK_softmax = np.apply_along_axis(softmax, 1, result2_3_QK_masked)\n",
    "np.around(result2_3_QK_softmax, decimals=2)"
   ]
  },
  {
   "cell_type": "code",
   "execution_count": 41,
   "metadata": {},
   "outputs": [
    {
     "data": {
      "text/plain": [
       "array([[-3.21, -2.78],\n",
       "       [ 0.99,  1.7 ]])"
      ]
     },
     "execution_count": 41,
     "metadata": {},
     "output_type": "execute_result"
    }
   ],
   "source": [
    "result2_3 = np.dot(result2_3_QK_softmax, result2_3_V)\n",
    "np.around(result2_3, decimals=2)"
   ]
  },
  {
   "cell_type": "markdown",
   "metadata": {},
   "source": [
    "### Step 4: Add resuidual connection"
   ]
  },
  {
   "cell_type": "code",
   "execution_count": 45,
   "metadata": {},
   "outputs": [
    {
     "data": {
      "text/plain": [
       "array([[-5.74, -2.75],\n",
       "       [ 2.54,  2.97]])"
      ]
     },
     "execution_count": 45,
     "metadata": {},
     "output_type": "execute_result"
    }
   ],
   "source": [
    "result2_4 = result2_3 + result2_2\n",
    "np.around(result2_4, decimals=2)"
   ]
  },
  {
   "cell_type": "markdown",
   "metadata": {},
   "source": [
    "# Encoder-Decoder"
   ]
  },
  {
   "cell_type": "code",
   "execution_count": 47,
   "metadata": {},
   "outputs": [],
   "source": [
    "W_Q3 = np.array(\n",
    "    [[0.9, 1.32],\n",
    "     [1, 0.38]]\n",
    ")\n",
    "W_K3 = np.array(\n",
    "    [[0.94, 1.28],\n",
    "     [-0.7, -0.97]]\n",
    ")\n",
    "W_V3 = np.array(\n",
    "    [[-1.03, 1.73],\n",
    "     [1.11, -1.49]]\n",
    ")"
   ]
  },
  {
   "cell_type": "markdown",
   "metadata": {},
   "source": [
    "### Step 1: Transformer"
   ]
  },
  {
   "cell_type": "code",
   "execution_count": 54,
   "metadata": {},
   "outputs": [
    {
     "data": {
      "text/plain": [
       "array([[ -64.96,  -44.52, -131.34],\n",
       "       [  37.5 ,   25.7 ,   75.82]])"
      ]
     },
     "execution_count": 54,
     "metadata": {},
     "output_type": "execute_result"
    }
   ],
   "source": [
    "result3_3_Q = np.dot(result2_4, W_Q3)\n",
    "result3_3_K = np.dot(result1_4, W_K3)\n",
    "result3_3_V = np.dot(result1_4, W_V3)\n",
    "\n",
    "result3_3_QK = np.dot(result3_3_Q, np.transpose(result3_3_K))/np.sqrt(2)\n",
    "np.around(result3_3_QK, decimals=2)"
   ]
  },
  {
   "cell_type": "code",
   "execution_count": 55,
   "metadata": {},
   "outputs": [
    {
     "data": {
      "text/plain": [
       "array([[0., 1., 0.],\n",
       "       [0., 0., 1.]])"
      ]
     },
     "execution_count": 55,
     "metadata": {},
     "output_type": "execute_result"
    }
   ],
   "source": [
    "result3_3_QK_softmax = np.apply_along_axis(softmax, 1, result3_3_QK)\n",
    "np.around(result3_3_QK_softmax, decimals=2)"
   ]
  },
  {
   "cell_type": "code",
   "execution_count": 56,
   "metadata": {},
   "outputs": [
    {
     "data": {
      "text/plain": [
       "array([[ -4.11,   6.23],\n",
       "       [-12.17,  18.41]])"
      ]
     },
     "execution_count": 56,
     "metadata": {},
     "output_type": "execute_result"
    }
   ],
   "source": [
    "result3_3 = np.dot(result3_3_QK_softmax, result3_3_V)\n",
    "np.around(result3_3, decimals=2)"
   ]
  },
  {
   "cell_type": "markdown",
   "metadata": {},
   "source": [
    "### Step 2: Add residual connection"
   ]
  },
  {
   "cell_type": "code",
   "execution_count": 59,
   "metadata": {},
   "outputs": [
    {
     "data": {
      "text/plain": [
       "array([[-9.85,  3.48],\n",
       "       [-9.63, 21.38]])"
      ]
     },
     "execution_count": 59,
     "metadata": {},
     "output_type": "execute_result"
    }
   ],
   "source": [
    "result3_4 = result3_3 + result2_4\n",
    "np.around(result3_4, decimals=2)"
   ]
  },
  {
   "cell_type": "markdown",
   "metadata": {},
   "source": [
    "Put them in a neural network and expectthe output \n",
    "\n",
    "word_vamos = [0,0,1,0,0]\n",
    "\n",
    "word_EOS2 = [0,0,0,0,1]"
   ]
  },
  {
   "cell_type": "markdown",
   "metadata": {},
   "source": [
    "# CNN"
   ]
  },
  {
   "cell_type": "code",
   "execution_count": 63,
   "metadata": {},
   "outputs": [],
   "source": [
    "cnn_matrix = np.array(\n",
    "    [[0.44, -0.14, -1.73,0.67,0.3],\n",
    "     [-0.37, -1.69, -0.53,-0.39,1.8]]\n",
    ")\n",
    "cnn_bias= np.array(\n",
    "    [[-1.01, 0.21, 0.44,-1.42,0.15]]\n",
    ")"
   ]
  },
  {
   "cell_type": "code",
   "execution_count": 64,
   "metadata": {},
   "outputs": [
    {
     "data": {
      "text/plain": [
       "array([[ -6.63,  -4.3 ,  15.64,  -9.38,   3.46],\n",
       "       [-13.16, -34.58,   5.77, -16.21,  35.75]])"
      ]
     },
     "execution_count": 64,
     "metadata": {},
     "output_type": "execute_result"
    }
   ],
   "source": [
    "result4_1 = np.dot(result3_4, cnn_matrix)+cnn_bias\n",
    "np.around(result4_1, decimals=2)"
   ]
  },
  {
   "cell_type": "code",
   "execution_count": 65,
   "metadata": {},
   "outputs": [
    {
     "data": {
      "text/plain": [
       "array([[0., 0., 1., 0., 0.],\n",
       "       [0., 0., 0., 0., 1.]])"
      ]
     },
     "execution_count": 65,
     "metadata": {},
     "output_type": "execute_result"
    }
   ],
   "source": [
    "result4_1_softmax = np.apply_along_axis(softmax, 1, result4_1)\n",
    "np.around(result4_1_softmax, decimals=2)"
   ]
  },
  {
   "cell_type": "code",
   "execution_count": null,
   "metadata": {},
   "outputs": [],
   "source": []
  }
 ],
 "metadata": {
  "kernelspec": {
   "display_name": "machine_learning",
   "language": "python",
   "name": "python3"
  },
  "language_info": {
   "codemirror_mode": {
    "name": "ipython",
    "version": 3
   },
   "file_extension": ".py",
   "mimetype": "text/x-python",
   "name": "python",
   "nbconvert_exporter": "python",
   "pygments_lexer": "ipython3",
   "version": "3.13.2"
  }
 },
 "nbformat": 4,
 "nbformat_minor": 2
}
