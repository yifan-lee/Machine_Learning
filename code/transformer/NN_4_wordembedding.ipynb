{
 "cells": [
  {
   "cell_type": "code",
   "execution_count": 3,
   "metadata": {},
   "outputs": [],
   "source": [
    "import torch\n",
    "import torch.nn as nn\n",
    "\n",
    "from torch.optim import Adam # Faster than SGD\n",
    "from torch.distributions.uniform import Uniform\n",
    "from torch.utils.data import TensorDataset, DataLoader\n",
    "\n",
    "import lightning as L\n",
    "\n",
    "import pandas as pd\n",
    "import matplotlib.pyplot as plt\n",
    "import seaborn as sns"
   ]
  },
  {
   "cell_type": "code",
   "execution_count": 8,
   "metadata": {},
   "outputs": [],
   "source": [
    "### Troll2 is great\n",
    "### Gymkata is great\n",
    "## Troll2 is great Gymkata\n",
    "\n",
    "inputs = torch.tensor([[1., 0., 0., 0.], \n",
    "                       [0., 1., 0., 0.],\n",
    "                       [0., 0., 1., 0.],\n",
    "                       [0., 0., 0., 1.]])\n",
    "\n",
    "labels = torch.tensor([[0., 1., 0., 0.],\n",
    "                       [0., 0., 1., 0.],\n",
    "                       [0., 0., 0., 1.],\n",
    "                       [0., 1., 0., 0.]])\n",
    "dataset = TensorDataset(inputs, labels)\n",
    "dataloader = DataLoader(dataset)"
   ]
  },
  {
   "cell_type": "markdown",
   "metadata": {},
   "source": [
    "## Basic Word Embedding"
   ]
  },
  {
   "cell_type": "code",
   "execution_count": 15,
   "metadata": {},
   "outputs": [],
   "source": [
    "class WordEmbeddingFromScratch(L.LightningModule):\n",
    "    def __init__(self):\n",
    "        super().__init__()\n",
    "        \n",
    "        min_value = -0.5\n",
    "        max_value = 0.5\n",
    "        \n",
    "        self.input1_w1 = nn.Parameter(Uniform(min_value, max_value).sample())\n",
    "        self.input1_w2 = nn.Parameter(Uniform(min_value, max_value).sample())\n",
    "        self.input2_w1 = nn.Parameter(Uniform(min_value, max_value).sample())\n",
    "        self.input2_w2 = nn.Parameter(Uniform(min_value, max_value).sample())\n",
    "        self.input3_w1 = nn.Parameter(Uniform(min_value, max_value).sample())\n",
    "        self.input3_w2 = nn.Parameter(Uniform(min_value, max_value).sample())\n",
    "        self.input4_w1 = nn.Parameter(Uniform(min_value, max_value).sample())\n",
    "        self.input4_w2 = nn.Parameter(Uniform(min_value, max_value).sample())\n",
    "        \n",
    "        self.output1_w1 = nn.Parameter(Uniform(min_value, max_value).sample())\n",
    "        self.output1_w2 = nn.Parameter(Uniform(min_value, max_value).sample())\n",
    "        self.output2_w1 = nn.Parameter(Uniform(min_value, max_value).sample())\n",
    "        self.output2_w2 = nn.Parameter(Uniform(min_value, max_value).sample())\n",
    "        self.output3_w1 = nn.Parameter(Uniform(min_value, max_value).sample())\n",
    "        self.output3_w2 = nn.Parameter(Uniform(min_value, max_value).sample())\n",
    "        self.output4_w1 = nn.Parameter(Uniform(min_value, max_value).sample())\n",
    "        self.output4_w2 = nn.Parameter(Uniform(min_value, max_value).sample())\n",
    "        \n",
    "        self.loss = nn.CrossEntropyLoss()\n",
    "        \n",
    "\n",
    "    def forward(self, input):\n",
    "        input = input[0]\n",
    "        \n",
    "        inputs_to_top_hidden = ((input[0] * self.input1_w1) +\n",
    "                                (input[1] * self.input2_w1) +\n",
    "                                (input[2] * self.input3_w1) +\n",
    "                                (input[3] * self.input4_w1))\n",
    "        inputs_to_bottom_hidden = ((input[0] * self.input1_w2) +\n",
    "                                   (input[1] * self.input2_w2) +\n",
    "                                   (input[2] * self.input3_w2) +\n",
    "                                   (input[3] * self.input4_w2))\n",
    "        output1 = ((inputs_to_top_hidden * self.output1_w1) +\n",
    "                  (inputs_to_bottom_hidden * self.output1_w2))\n",
    "        output2 = ((inputs_to_top_hidden * self.output2_w1) +\n",
    "                  (inputs_to_bottom_hidden * self.output2_w2))\n",
    "        output3 = ((inputs_to_top_hidden * self.output3_w1) +\n",
    "                  (inputs_to_bottom_hidden * self.output3_w2))\n",
    "        output4 = ((inputs_to_top_hidden * self.output4_w1) +\n",
    "                  (inputs_to_bottom_hidden * self.output4_w2))\n",
    "        output_presoftmax = torch.stack([output1, output2, output3, output4])\n",
    "        return(output_presoftmax)\n",
    "\n",
    "    def configure_optimizers(self):\n",
    "        return(Adam(self.parameters(),lr=0.1))\n",
    "    \n",
    "    def training_step(self, batch, batch_idx):\n",
    "        input_i, label_i = batch\n",
    "        output_i = self.forward(input_i)\n",
    "        loss = self.loss(output_i,label_i[0])\n",
    "        return loss    "
   ]
  },
  {
   "cell_type": "code",
   "execution_count": 16,
   "metadata": {},
   "outputs": [
    {
     "name": "stdout",
     "output_type": "stream",
     "text": [
      "Before optimization, the parameters are...\n",
      "input1_w1: 0.48927217721939087\n",
      "input1_w2: -0.25236600637435913\n",
      "input2_w1: 0.45014870166778564\n",
      "input2_w2: 0.20543819665908813\n",
      "input3_w1: -0.24032217264175415\n",
      "input3_w2: 0.10505884885787964\n",
      "input4_w1: 0.19507265090942383\n",
      "input4_w2: -0.3235602378845215\n",
      "output1_w1: 0.13932788372039795\n",
      "output1_w2: -0.1520957350730896\n",
      "output2_w1: -0.19558990001678467\n",
      "output2_w2: 0.13494926691055298\n",
      "output3_w1: -0.19221091270446777\n",
      "output3_w2: -0.051127612590789795\n",
      "output4_w1: -0.2785267233848572\n",
      "output4_w2: -0.32625412940979004\n"
     ]
    }
   ],
   "source": [
    "modelFromScratch = WordEmbeddingFromScratch()\n",
    "print(f\"Before optimization, the parameters are...\")\n",
    "for name, param in modelFromScratch.named_parameters():\n",
    "    print(f\"{name}: {param.data}\")"
   ]
  },
  {
   "cell_type": "code",
   "execution_count": 22,
   "metadata": {},
   "outputs": [
    {
     "data": {
      "text/html": [
       "<div>\n",
       "<style scoped>\n",
       "    .dataframe tbody tr th:only-of-type {\n",
       "        vertical-align: middle;\n",
       "    }\n",
       "\n",
       "    .dataframe tbody tr th {\n",
       "        vertical-align: top;\n",
       "    }\n",
       "\n",
       "    .dataframe thead th {\n",
       "        text-align: right;\n",
       "    }\n",
       "</style>\n",
       "<table border=\"1\" class=\"dataframe\">\n",
       "  <thead>\n",
       "    <tr style=\"text-align: right;\">\n",
       "      <th></th>\n",
       "      <th>w1</th>\n",
       "      <th>w2</th>\n",
       "      <th>token</th>\n",
       "      <th>input</th>\n",
       "    </tr>\n",
       "  </thead>\n",
       "  <tbody>\n",
       "    <tr>\n",
       "      <th>0</th>\n",
       "      <td>0.489272</td>\n",
       "      <td>-0.252366</td>\n",
       "      <td>Troll2</td>\n",
       "      <td>input1</td>\n",
       "    </tr>\n",
       "    <tr>\n",
       "      <th>1</th>\n",
       "      <td>0.450149</td>\n",
       "      <td>0.205438</td>\n",
       "      <td>is</td>\n",
       "      <td>input2</td>\n",
       "    </tr>\n",
       "    <tr>\n",
       "      <th>2</th>\n",
       "      <td>-0.240322</td>\n",
       "      <td>0.105059</td>\n",
       "      <td>great</td>\n",
       "      <td>input3</td>\n",
       "    </tr>\n",
       "    <tr>\n",
       "      <th>3</th>\n",
       "      <td>0.195073</td>\n",
       "      <td>-0.323560</td>\n",
       "      <td>Gymkata</td>\n",
       "      <td>input4</td>\n",
       "    </tr>\n",
       "  </tbody>\n",
       "</table>\n",
       "</div>"
      ],
      "text/plain": [
       "         w1        w2    token   input\n",
       "0  0.489272 -0.252366   Troll2  input1\n",
       "1  0.450149  0.205438       is  input2\n",
       "2 -0.240322  0.105059    great  input3\n",
       "3  0.195073 -0.323560  Gymkata  input4"
      ]
     },
     "execution_count": 22,
     "metadata": {},
     "output_type": "execute_result"
    }
   ],
   "source": [
    "data = {\n",
    "    \"w1\": [modelFromScratch.input1_w1.item(), \n",
    "           modelFromScratch.input2_w1.item(), \n",
    "           modelFromScratch.input3_w1.item(), \n",
    "           modelFromScratch.input4_w1.item()],\n",
    "    \"w2\": [modelFromScratch.input1_w2.item(),\n",
    "           modelFromScratch.input2_w2.item(), \n",
    "           modelFromScratch.input3_w2.item(), \n",
    "           modelFromScratch.input4_w2.item()],\n",
    "    \"token\": [\"Troll2\", \"is\", \"great\", \"Gymkata\"],\n",
    "    \"input\": [\"input1\", \"input2\", \"input3\", \"input4\"]       \n",
    "}\n",
    "df = pd.DataFrame(data)\n",
    "df"
   ]
  },
  {
   "cell_type": "code",
   "execution_count": 23,
   "metadata": {},
   "outputs": [
    {
     "data": {
      "image/png": "[encoded data removed]",
      "text/plain": [
       "<Figure size 640x480 with 1 Axes>"
      ]
     },
     "metadata": {},
     "output_type": "display_data"
    }
   ],
   "source": [
    "sns.scatterplot(data=df, x=\"w1\", y=\"w2\")\n",
    "plt.text(df.w1[0], df.w2[0], df.token[0],\n",
    "         horizontalalignment='left', \n",
    "         size='medium',\n",
    "         color='black',\n",
    "         weight='semibold')\n",
    "plt.text(df.w1[1], df.w2[1], df.token[1],\n",
    "         horizontalalignment='left', \n",
    "         size='medium',\n",
    "         color='black',\n",
    "         weight='semibold')\n",
    "plt.text(df.w1[2], df.w2[2], df.token[2],\n",
    "         horizontalalignment='left', \n",
    "         size='medium',\n",
    "         color='black',\n",
    "         weight='semibold')\n",
    "plt.text(df.w1[3], df.w2[3], df.token[3],\n",
    "         horizontalalignment='left', \n",
    "         size='medium',\n",
    "         color='black',\n",
    "         weight='semibold')\n",
    "plt.show()"
   ]
  },
  {
   "cell_type": "code",
   "execution_count": 26,
   "metadata": {},
   "outputs": [
    {
     "name": "stderr",
     "output_type": "stream",
     "text": [
      "GPU available: True (mps), used: True\n",
      "TPU available: False, using: 0 TPU cores\n",
      "HPU available: False, using: 0 HPUs\n",
      "\n",
      "  | Name         | Type             | Params | Mode \n",
      "----------------------------------------------------------\n",
      "0 | loss         | CrossEntropyLoss | 0      | train\n",
      "  | other params | n/a              | 16     | n/a  \n",
      "----------------------------------------------------------\n",
      "16        Trainable params\n",
      "0         Non-trainable params\n",
      "16        Total params\n",
      "0.000     Total estimated model params size (MB)\n",
      "1         Modules in train mode\n",
      "0         Modules in eval mode\n",
      "/opt/anaconda3/envs/machine_learning/lib/python3.13/site-packages/lightning/pytorch/trainer/connectors/data_connector.py:425: The 'train_dataloader' does not have many workers which may be a bottleneck. Consider increasing the value of the `num_workers` argument` to `num_workers=15` in the `DataLoader` to improve performance.\n",
      "/opt/anaconda3/envs/machine_learning/lib/python3.13/site-packages/lightning/pytorch/loops/fit_loop.py:310: The number of training batches (4) is smaller than the logging interval Trainer(log_every_n_steps=50). Set a lower value for log_every_n_steps if you want to see logs for the training epoch.\n"
     ]
    },
    {
     "name": "stdout",
     "output_type": "stream",
     "text": [
      "Epoch 499: 100%|██████████| 4/4 [00:00<00:00, 258.28it/s, v_num=13]"
     ]
    },
    {
     "name": "stderr",
     "output_type": "stream",
     "text": [
      "`Trainer.fit` stopped: `max_epochs=500` reached.\n"
     ]
    },
    {
     "name": "stdout",
     "output_type": "stream",
     "text": [
      "Epoch 499: 100%|██████████| 4/4 [00:00<00:00, 176.97it/s, v_num=13]\n"
     ]
    }
   ],
   "source": [
    "trainer = L.Trainer(max_epochs=500)\n",
    "trainer.fit(modelFromScratch, train_dataloaders = dataloader)"
   ]
  },
  {
   "cell_type": "code",
   "execution_count": 27,
   "metadata": {},
   "outputs": [
    {
     "data": {
      "image/png": "[encoded data removed]",
      "text/plain": [
       "<Figure size 640x480 with 1 Axes>"
      ]
     },
     "metadata": {},
     "output_type": "display_data"
    }
   ],
   "source": [
    "data = {\n",
    "    \"w1\": [modelFromScratch.input1_w1.item(), \n",
    "           modelFromScratch.input2_w1.item(), \n",
    "           modelFromScratch.input3_w1.item(), \n",
    "           modelFromScratch.input4_w1.item()],\n",
    "    \"w2\": [modelFromScratch.input1_w2.item(),\n",
    "           modelFromScratch.input2_w2.item(), \n",
    "           modelFromScratch.input3_w2.item(), \n",
    "           modelFromScratch.input4_w2.item()],\n",
    "    \"token\": [\"Troll2\", \"is\", \"great\", \"Gymkata\"],\n",
    "    \"input\": [\"input1\", \"input2\", \"input3\", \"input4\"]       \n",
    "}\n",
    "df = pd.DataFrame(data)\n",
    "sns.scatterplot(data=df, x=\"w1\", y=\"w2\")\n",
    "plt.text(df.w1[0], df.w2[0], df.token[0],\n",
    "         horizontalalignment='left', \n",
    "         size='medium',\n",
    "         color='black',\n",
    "         weight='semibold')\n",
    "plt.text(df.w1[1], df.w2[1], df.token[1],\n",
    "         horizontalalignment='left', \n",
    "         size='medium',\n",
    "         color='black',\n",
    "         weight='semibold')\n",
    "plt.text(df.w1[2], df.w2[2], df.token[2],\n",
    "         horizontalalignment='left', \n",
    "         size='medium',\n",
    "         color='black',\n",
    "         weight='semibold')\n",
    "plt.text(df.w1[3], df.w2[3], df.token[3],\n",
    "         horizontalalignment='left', \n",
    "         size='medium',\n",
    "         color='black',\n",
    "         weight='semibold')\n",
    "plt.show()"
   ]
  },
  {
   "cell_type": "code",
   "execution_count": 28,
   "metadata": {},
   "outputs": [
    {
     "name": "stdout",
     "output_type": "stream",
     "text": [
      "tensor([0., 1., 0., 0.], grad_fn=<RoundBackward1>)\n"
     ]
    }
   ],
   "source": [
    "softmax = nn.Softmax(dim=0)\n",
    "print(torch.round(softmax(modelFromScratch(torch.tensor([[1., 0., 0., 0.]]))), decimals=2))"
   ]
  },
  {
   "cell_type": "markdown",
   "metadata": {},
   "source": [
    "## Simpler Word Embedding"
   ]
  },
  {
   "cell_type": "code",
   "execution_count": null,
   "metadata": {},
   "outputs": [],
   "source": [
    "class WordEmbeddingWithLinear(L.LightningModule):\n",
    "    def __init__(self):\n",
    "        super().__init__()\n",
    "        \n",
    "        self.input_to_hidden = nn.Linear(in_features=4,out_features=2,bias=False)\n",
    "        self.hidden_to_output = nn.Linear(in_features=2,out_features=4,bias=False)\n",
    "        self.loss = nn.CrossEntropyLoss()\n",
    "\n",
    "    def forward(self, input):\n",
    "        hidden = self.input_to_hidden(input[0])\n",
    "        output_values = self.hidden_to_output(hidden)\n",
    "        return(output_values)\n",
    "\n",
    "    def configure_optimizers(self):\n",
    "        return(Adam(self.parameters(),lr=0.1))\n",
    "    \n",
    "    def training_step(self, batch, batch_idx):\n",
    "        input_i, label_i = batch\n",
    "        output_i = self.forward(input_i)\n",
    "        loss = self.loss(output_i,label_i)\n",
    "        return loss    "
   ]
  },
  {
   "cell_type": "code",
   "execution_count": 30,
   "metadata": {},
   "outputs": [
    {
     "data": {
      "image/png": "[encoded data removed]",
      "text/plain": [
       "<Figure size 640x480 with 1 Axes>"
      ]
     },
     "metadata": {},
     "output_type": "display_data"
    }
   ],
   "source": [
    "modelLinear = WordEmbeddingWithLinear()\n",
    "data = {\n",
    "    \"w1\": modelLinear.input_to_hidden.weight.detach()[0].numpy(),\n",
    "    \"w2\": modelLinear.input_to_hidden.weight.detach()[1].numpy(),\n",
    "    \"token\": [\"Troll2\", \"is\", \"great\", \"Gymkata\"],\n",
    "    \"input\": [\"input1\", \"input2\", \"input3\", \"input4\"]       \n",
    "}\n",
    "df = pd.DataFrame(data)\n",
    "sns.scatterplot(data=df, x=\"w1\", y=\"w2\")\n",
    "plt.text(df.w1[0], df.w2[0], df.token[0],\n",
    "         horizontalalignment='left', \n",
    "         size='medium',\n",
    "         color='black',\n",
    "         weight='semibold')\n",
    "plt.text(df.w1[1], df.w2[1], df.token[1],\n",
    "         horizontalalignment='left', \n",
    "         size='medium',\n",
    "         color='black',\n",
    "         weight='semibold')\n",
    "plt.text(df.w1[2], df.w2[2], df.token[2],\n",
    "         horizontalalignment='left', \n",
    "         size='medium',\n",
    "         color='black',\n",
    "         weight='semibold')\n",
    "plt.text(df.w1[3], df.w2[3], df.token[3],\n",
    "         horizontalalignment='left', \n",
    "         size='medium',\n",
    "         color='black',\n",
    "         weight='semibold')\n",
    "plt.show()"
   ]
  },
  {
   "cell_type": "code",
   "execution_count": 31,
   "metadata": {},
   "outputs": [
    {
     "name": "stderr",
     "output_type": "stream",
     "text": [
      "GPU available: True (mps), used: True\n",
      "TPU available: False, using: 0 TPU cores\n",
      "HPU available: False, using: 0 HPUs\n",
      "\n",
      "  | Name             | Type             | Params | Mode \n",
      "--------------------------------------------------------------\n",
      "0 | input_to_hidden  | Linear           | 8      | train\n",
      "1 | hidden_to_output | Linear           | 8      | train\n",
      "2 | loss             | CrossEntropyLoss | 0      | train\n",
      "--------------------------------------------------------------\n",
      "16        Trainable params\n",
      "0         Non-trainable params\n",
      "16        Total params\n",
      "0.000     Total estimated model params size (MB)\n",
      "3         Modules in train mode\n",
      "0         Modules in eval mode\n",
      "/opt/anaconda3/envs/machine_learning/lib/python3.13/site-packages/lightning/pytorch/trainer/connectors/data_connector.py:425: The 'train_dataloader' does not have many workers which may be a bottleneck. Consider increasing the value of the `num_workers` argument` to `num_workers=15` in the `DataLoader` to improve performance.\n",
      "/opt/anaconda3/envs/machine_learning/lib/python3.13/site-packages/lightning/pytorch/loops/fit_loop.py:310: The number of training batches (4) is smaller than the logging interval Trainer(log_every_n_steps=50). Set a lower value for log_every_n_steps if you want to see logs for the training epoch.\n"
     ]
    },
    {
     "name": "stdout",
     "output_type": "stream",
     "text": [
      "Epoch 499: 100%|██████████| 4/4 [00:00<00:00, 521.52it/s, v_num=14]"
     ]
    },
    {
     "name": "stderr",
     "output_type": "stream",
     "text": [
      "`Trainer.fit` stopped: `max_epochs=500` reached.\n"
     ]
    },
    {
     "name": "stdout",
     "output_type": "stream",
     "text": [
      "Epoch 499: 100%|██████████| 4/4 [00:00<00:00, 405.93it/s, v_num=14]\n"
     ]
    },
    {
     "data": {
      "image/png": "[encoded data removed]",
      "text/plain": [
       "<Figure size 640x480 with 1 Axes>"
      ]
     },
     "metadata": {},
     "output_type": "display_data"
    }
   ],
   "source": [
    "trainer = L.Trainer(max_epochs=500)\n",
    "trainer.fit(modelLinear, train_dataloaders = dataloader)\n",
    "data = {\n",
    "    \"w1\": modelLinear.input_to_hidden.weight.detach()[0].numpy(),\n",
    "    \"w2\": modelLinear.input_to_hidden.weight.detach()[1].numpy(),\n",
    "    \"token\": [\"Troll2\", \"is\", \"great\", \"Gymkata\"],\n",
    "    \"input\": [\"input1\", \"input2\", \"input3\", \"input4\"]       \n",
    "}\n",
    "df = pd.DataFrame(data)\n",
    "sns.scatterplot(data=df, x=\"w1\", y=\"w2\")\n",
    "plt.text(df.w1[0], df.w2[0], df.token[0],\n",
    "         horizontalalignment='left', \n",
    "         size='medium',\n",
    "         color='black',\n",
    "         weight='semibold')\n",
    "plt.text(df.w1[1], df.w2[1], df.token[1],\n",
    "         horizontalalignment='left', \n",
    "         size='medium',\n",
    "         color='black',\n",
    "         weight='semibold')\n",
    "plt.text(df.w1[2], df.w2[2], df.token[2],\n",
    "         horizontalalignment='left', \n",
    "         size='medium',\n",
    "         color='black',\n",
    "         weight='semibold')\n",
    "plt.text(df.w1[3], df.w2[3], df.token[3],\n",
    "         horizontalalignment='left', \n",
    "         size='medium',\n",
    "         color='black',\n",
    "         weight='semibold')\n",
    "plt.show()"
   ]
  },
  {
   "cell_type": "code",
   "execution_count": null,
   "metadata": {},
   "outputs": [],
   "source": []
  }
 ],
 "metadata": {
  "kernelspec": {
   "display_name": "machine_learning",
   "language": "python",
   "name": "python3"
  },
  "language_info": {
   "codemirror_mode": {
    "name": "ipython",
    "version": 3
   },
   "file_extension": ".py",
   "mimetype": "text/x-python",
   "name": "python",
   "nbconvert_exporter": "python",
   "pygments_lexer": "ipython3",
   "version": "3.13.2"
  }
 },
 "nbformat": 4,
 "nbformat_minor": 2
}
