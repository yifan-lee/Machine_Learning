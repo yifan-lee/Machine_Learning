{
 "cells": [
  {
   "cell_type": "code",
   "execution_count": 1,
   "metadata": {},
   "outputs": [],
   "source": [
    "import numpy as np\n",
    "import math"
   ]
  },
  {
   "cell_type": "code",
   "execution_count": 2,
   "metadata": {},
   "outputs": [],
   "source": [
    "word_SOS = [1,0,0,0]\n",
    "word_Let = [0,1,0,0]\n",
    "word_to = [0,0,1,0]\n",
    "word_go = [0,0,0,1]"
   ]
  },
  {
   "cell_type": "code",
   "execution_count": 3,
   "metadata": {},
   "outputs": [],
   "source": [
    "word2vec = np.array(\n",
    "    [[1.16, -0.77], \n",
    "     [-0.27,0.82],\n",
    "     [-2.19, 0.89],\n",
    "     [3.5, -1.74]]\n",
    ")\n",
    "word2vecT = np.transpose(word2vec)"
   ]
  },
  {
   "cell_type": "code",
   "execution_count": 4,
   "metadata": {},
   "outputs": [],
   "source": [
    "sentence_matrix = np.array(\n",
    "    [word_SOS,\n",
    "     word_Let,\n",
    "     word_go]\n",
    ")"
   ]
  },
  {
   "cell_type": "markdown",
   "metadata": {},
   "source": [
    "# Encoder"
   ]
  },
  {
   "cell_type": "markdown",
   "metadata": {},
   "source": [
    "### Step 1: Word embedding"
   ]
  },
  {
   "cell_type": "code",
   "execution_count": 5,
   "metadata": {},
   "outputs": [
    {
     "data": {
      "text/plain": [
       "array([[ 1.16, -0.77],\n",
       "       [-0.27,  0.82],\n",
       "       [ 3.5 , -1.74]])"
      ]
     },
     "execution_count": 5,
     "metadata": {},
     "output_type": "execute_result"
    }
   ],
   "source": [
    "result1_1 = np.dot(sentence_matrix, word2vec)\n",
    "np.around(result1_1, decimals=2)"
   ]
  },
  {
   "cell_type": "markdown",
   "metadata": {},
   "source": [
    "### Step 2: Add position"
   ]
  },
  {
   "cell_type": "code",
   "execution_count": 6,
   "metadata": {},
   "outputs": [
    {
     "data": {
      "text/plain": [
       "array([[ 1.16,  0.23],\n",
       "       [ 0.57,  1.36],\n",
       "       [ 4.41, -2.16]])"
      ]
     },
     "execution_count": 6,
     "metadata": {},
     "output_type": "execute_result"
    }
   ],
   "source": [
    "position_matrix = np.array(\n",
    "    [[0, 1],\n",
    "     [0.84, 0.54],\n",
    "     [0.91, -0.42]]\n",
    ")\n",
    "result1_2 = result1_1+position_matrix\n",
    "np.around(result1_2, decimals=2)"
   ]
  },
  {
   "cell_type": "markdown",
   "metadata": {},
   "source": [
    "### Step 3: Transformer"
   ]
  },
  {
   "cell_type": "code",
   "execution_count": 7,
   "metadata": {},
   "outputs": [],
   "source": [
    "W_Q = np.array(\n",
    "    [[2.22, 0.41],\n",
    "     [0.17, -0.51]]\n",
    ")\n",
    "W_K = np.array(\n",
    "    [[-1.82, 0.57],\n",
    "     [1.36, -0.38]]\n",
    ")\n",
    "W_V = np.array(\n",
    "    [[-0.43, -0.59],\n",
    "     [1.33, -2.15]]\n",
    ")"
   ]
  },
  {
   "cell_type": "code",
   "execution_count": 8,
   "metadata": {},
   "outputs": [],
   "source": [
    "result1_3_Q = np.dot(result1_2, W_Q)\n",
    "result1_3_K = np.dot(result1_2, W_K)\n",
    "result1_3_V = np.dot(result1_2, W_V)"
   ]
  },
  {
   "cell_type": "code",
   "execution_count": 9,
   "metadata": {},
   "outputs": [],
   "source": [
    "result1_3_QK = np.dot(result1_3_Q, np.transpose(result1_3_K))/np.sqrt(2)"
   ]
  },
  {
   "cell_type": "code",
   "execution_count": 10,
   "metadata": {},
   "outputs": [
    {
     "data": {
      "text/plain": [
       "array([[0.01, 0.99, 0.  ],\n",
       "       [0.05, 0.95, 0.  ],\n",
       "       [0.  , 1.  , 0.  ]])"
      ]
     },
     "execution_count": 10,
     "metadata": {},
     "output_type": "execute_result"
    }
   ],
   "source": [
    "def softmax(row):\n",
    "    exp_row = np.exp(row)\n",
    "    sum_exp = np.sum(exp_row)\n",
    "    return exp_row / sum_exp\n",
    "result1_3_QK_softmax = np.apply_along_axis(softmax, 1, result1_3_QK)\n",
    "np.around(result1_3_QK_softmax, decimals=2)"
   ]
  },
  {
   "cell_type": "code",
   "execution_count": 11,
   "metadata": {},
   "outputs": [
    {
     "data": {
      "text/plain": [
       "array([[ 1.55, -3.24],\n",
       "       [ 1.48, -3.16],\n",
       "       [ 1.56, -3.26]])"
      ]
     },
     "execution_count": 11,
     "metadata": {},
     "output_type": "execute_result"
    }
   ],
   "source": [
    "result1_3 = np.dot(result1_3_QK_softmax, result1_3_V)\n",
    "np.around(result1_3, decimals=2)"
   ]
  },
  {
   "cell_type": "markdown",
   "metadata": {},
   "source": [
    "### Step 4: Add resuidual connection"
   ]
  },
  {
   "cell_type": "code",
   "execution_count": 12,
   "metadata": {},
   "outputs": [
    {
     "data": {
      "text/plain": [
       "array([[ 2.71, -3.01],\n",
       "       [ 2.05, -1.8 ],\n",
       "       [ 5.97, -5.42]])"
      ]
     },
     "execution_count": 12,
     "metadata": {},
     "output_type": "execute_result"
    }
   ],
   "source": [
    "result1_4 = result1_3 + result1_2\n",
    "np.around(result1_4, decimals=2)"
   ]
  },
  {
   "cell_type": "markdown",
   "metadata": {},
   "source": [
    "# Decoder"
   ]
  },
  {
   "cell_type": "code",
   "execution_count": null,
   "metadata": {},
   "outputs": [],
   "source": [
    "word_SOS2 = [1,0,0,0,0]\n",
    "word_ir = [0,1,0,0,0]\n",
    "word_vamos = [0,0,1,0,0]\n",
    "word_y = [0,0,0,1,0]\n",
    "word_EOS2 = [0,0,0,0,1]\n",
    "\n",
    "word2vec_spanish = np.array(\n",
    "    [[-2.53, -0.97], \n",
    "     [1.27,2.17],\n",
    "     [0.71, 0.73],\n",
    "     [0.58, 0.69],\n",
    "     [-1.39, 0.76]]\n",
    ")\n",
    "word2vec_spanishT = np.transpose(word2vec)"
   ]
  },
  {
   "cell_type": "markdown",
   "metadata": {},
   "source": [
    "### Step 1: Word embedding"
   ]
  },
  {
   "cell_type": "code",
   "execution_count": 14,
   "metadata": {},
   "outputs": [
    {
     "data": {
      "text/plain": [
       "array([-2.53, -0.97])"
      ]
     },
     "execution_count": 14,
     "metadata": {},
     "output_type": "execute_result"
    }
   ],
   "source": [
    "result2_1 = np.dot(word_SOS2, word2vec_spanish)\n",
    "np.around(result2_1, decimals=2)"
   ]
  },
  {
   "cell_type": "code",
   "execution_count": null,
   "metadata": {},
   "outputs": [],
   "source": [
    "test"
   ]
  }
 ],
 "metadata": {
  "kernelspec": {
   "display_name": "machine_learning",
   "language": "python",
   "name": "python3"
  },
  "language_info": {
   "codemirror_mode": {
    "name": "ipython",
    "version": 3
   },
   "file_extension": ".py",
   "mimetype": "text/x-python",
   "name": "python",
   "nbconvert_exporter": "python",
   "pygments_lexer": "ipython3",
   "version": "3.13.2"
  }
 },
 "nbformat": 4,
 "nbformat_minor": 2
}
