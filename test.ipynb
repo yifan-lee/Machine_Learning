{
 "cells": [
  {
   "cell_type": "code",
   "execution_count": 7,
   "id": "802f9cc5",
   "metadata": {},
   "outputs": [],
   "source": [
    "import torch\n",
    "import numpy as np"
   ]
  },
  {
   "cell_type": "code",
   "execution_count": 63,
   "id": "77007432",
   "metadata": {},
   "outputs": [],
   "source": [
    "trainSize=1000"
   ]
  },
  {
   "cell_type": "code",
   "execution_count": 64,
   "id": "4ca66124",
   "metadata": {},
   "outputs": [
    {
     "data": {
      "text/plain": [
       "tensor([[-1.0403,  0.6039],\n",
       "        [-0.2248,  1.0461],\n",
       "        [ 0.3817, -0.3214],\n",
       "        ...,\n",
       "        [ 0.6355,  0.5566],\n",
       "        [-0.3033,  2.1330],\n",
       "        [-0.6079, -0.1690]])"
      ]
     },
     "execution_count": 64,
     "metadata": {},
     "output_type": "execute_result"
    }
   ],
   "source": [
    "xTrain = torch.randn(trainSize, 2)\n",
    "xTrain"
   ]
  },
  {
   "cell_type": "code",
   "execution_count": null,
   "id": "0ec46db7",
   "metadata": {},
   "outputs": [],
   "source": []
  }
 ],
 "metadata": {
  "kernelspec": {
   "display_name": "ML_3.10",
   "language": "python",
   "name": "python3"
  },
  "language_info": {
   "codemirror_mode": {
    "name": "ipython",
    "version": 3
   },
   "file_extension": ".py",
   "mimetype": "text/x-python",
   "name": "python",
   "nbconvert_exporter": "python",
   "pygments_lexer": "ipython3",
   "version": "3.10.18"
  }
 },
 "nbformat": 4,
 "nbformat_minor": 5
}
