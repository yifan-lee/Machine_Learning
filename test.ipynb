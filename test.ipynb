{
 "cells": [
  {
   "cell_type": "code",
   "execution_count": 1,
   "id": "802f9cc5",
   "metadata": {},
   "outputs": [],
   "source": [
    "import torch\n",
    "import torch.nn as nn\n",
    "import torch.optim as optim\n",
    "from torchvision import datasets, transforms\n",
    "from torch.utils.data import DataLoader\n",
    "import matplotlib.pyplot as plt"
   ]
  },
  {
   "cell_type": "code",
   "execution_count": 2,
   "id": "890dfcb8",
   "metadata": {},
   "outputs": [
    {
     "data": {
      "image/png": "[encoded data removed]",
      "text/plain": [
       "<Figure size 640x480 with 1 Axes>"
      ]
     },
     "metadata": {},
     "output_type": "display_data"
    }
   ],
   "source": [
    "transform = transforms.Compose([transforms.ToTensor()])\n",
    "emnist = datasets.EMNIST(\n",
    "    root='./data',\n",
    "    split='letters',\n",
    "    train=True,\n",
    "    download=False,\n",
    "    transform=transform\n",
    ")\n",
    "label = emnist[0][1]\n",
    "plt.imshow(emnist[0][0][0], cmap='gray')\n",
    "plt.title(chr(label + 96))  # 因为EMNIST的letters标签是1~26，所以+96得到ascii\n",
    "plt.show()"
   ]
  },
  {
   "cell_type": "code",
   "execution_count": 3,
   "id": "77007432",
   "metadata": {},
   "outputs": [],
   "source": [
    "# ===================== 1. 数据加载 =====================\n",
    "batch_size = 64\n",
    "transform = transforms.Compose([transforms.ToTensor()])\n",
    "\n",
    "train_dataset = datasets.EMNIST(\n",
    "    root='./data',\n",
    "    split='letters',\n",
    "    train=True,\n",
    "    download=True,\n",
    "    transform=transform\n",
    ")\n",
    "test_dataset = datasets.EMNIST(\n",
    "    root='./data',\n",
    "    split='letters',\n",
    "    train=False,\n",
    "    download=True,\n",
    "    transform=transform\n",
    ")\n",
    "\n",
    "train_loader = DataLoader(train_dataset, batch_size=batch_size, shuffle=True)\n",
    "test_loader = DataLoader(test_dataset, batch_size=batch_size, shuffle=False)"
   ]
  },
  {
   "cell_type": "code",
   "execution_count": 4,
   "id": "5ff73213",
   "metadata": {},
   "outputs": [],
   "source": [
    "# ===================== 2. 模型定义 =====================\n",
    "from model.CNN import CNN"
   ]
  },
  {
   "cell_type": "code",
   "execution_count": 6,
   "id": "0ec46db7",
   "metadata": {},
   "outputs": [],
   "source": [
    "# ===================== 3. 损失函数和优化器 =====================\n",
    "device = 'mps' if torch.backends.mps.is_available() else 'cpu'\n",
    "model = CNN().to(device)\n",
    "criterion = nn.CrossEntropyLoss()\n",
    "optimizer = optim.Adam(model.parameters(), lr=1e-3)\n",
    "\n"
   ]
  },
  {
   "cell_type": "code",
   "execution_count": 7,
   "id": "130eb844",
   "metadata": {},
   "outputs": [],
   "source": [
    "# ===================== 4. 训练和测试函数 =====================\n",
    "from utils.train_model import train\n",
    "from utils.eval_model import evaluate, evaluate_CNN\n",
    "\n"
   ]
  },
  {
   "cell_type": "code",
   "execution_count": null,
   "id": "274d4795",
   "metadata": {},
   "outputs": [
    {
     "name": "stdout",
     "output_type": "stream",
     "text": [
      "Early stopping at epoch 5\n"
     ]
    }
   ],
   "source": [
    "# ===================== 4. 训练和测试函数 =====================\n",
    "model = train(\n",
    "    model=model, \n",
    "    x=train_loader, \n",
    "    y=None, \n",
    "    optimizer=optimizer, \n",
    "    criterion=criterion, \n",
    "    epochs=5, \n",
    "    patience=1, \n",
    "    device='mps'\n",
    ")"
   ]
  },
  {
   "cell_type": "code",
   "execution_count": null,
   "id": "2a89fcdb",
   "metadata": {},
   "outputs": [],
   "source": [
    "\n",
    "\n",
    "\n",
    "def train_one_epoch():\n",
    "    model.train()\n",
    "    total_loss = 0\n",
    "    for imgs, labels in train_loader:\n",
    "        imgs, labels = imgs.to(device), labels.to(device)\n",
    "        # EMNIST letters 标签是 1-26，我们要减1变成 0-25\n",
    "        labels = labels - 1\n",
    "        optimizer.zero_grad()\n",
    "        output = model(imgs)\n",
    "        loss = criterion(output, labels)\n",
    "        loss.backward()\n",
    "        optimizer.step()\n",
    "        total_loss += loss.item()\n",
    "    return total_loss / len(train_loader)\n",
    "\n",
    "def evaluate():\n",
    "    model.eval()\n",
    "    correct = 0\n",
    "    total = 0\n",
    "    with torch.no_grad():\n",
    "        for imgs, labels in test_loader:\n",
    "            imgs, labels = imgs.to(device), labels.to(device)\n",
    "            labels = labels - 1\n",
    "            output = model(imgs)\n",
    "            pred = output.argmax(1)\n",
    "            correct += (pred == labels).sum().item()\n",
    "            total += labels.size(0)\n",
    "    return correct / total"
   ]
  },
  {
   "cell_type": "code",
   "execution_count": 36,
   "id": "929085f3",
   "metadata": {},
   "outputs": [
    {
     "name": "stdout",
     "output_type": "stream",
     "text": [
      "Epoch 1: loss=1.0398, test_acc=0.8086\n",
      "Epoch 2: loss=0.5621, test_acc=0.8489\n",
      "Epoch 3: loss=0.4684, test_acc=0.8575\n",
      "Epoch 4: loss=0.4240, test_acc=0.8727\n",
      "Epoch 5: loss=0.3946, test_acc=0.8705\n",
      "训练完成，模型已保存。\n"
     ]
    }
   ],
   "source": [
    "# ===================== 5. 主训练循环 =====================\n",
    "for epoch in range(5):\n",
    "    loss = train_one_epoch()\n",
    "    acc = evaluate()\n",
    "    print(f\"Epoch {epoch+1}: loss={loss:.4f}, test_acc={acc:.4f}\")\n",
    "\n",
    "# torch.save(model.state_dict(), \"emnist_simplecnn.pth\")\n",
    "print(\"训练完成，模型已保存。\")"
   ]
  },
  {
   "cell_type": "code",
   "execution_count": null,
   "id": "3ca61ec0",
   "metadata": {},
   "outputs": [],
   "source": []
  }
 ],
 "metadata": {
  "kernelspec": {
   "display_name": "ML_3.10",
   "language": "python",
   "name": "python3"
  },
  "language_info": {
   "codemirror_mode": {
    "name": "ipython",
    "version": 3
   },
   "file_extension": ".py",
   "mimetype": "text/x-python",
   "name": "python",
   "nbconvert_exporter": "python",
   "pygments_lexer": "ipython3",
   "version": "3.10.18"
  }
 },
 "nbformat": 4,
 "nbformat_minor": 5
}
